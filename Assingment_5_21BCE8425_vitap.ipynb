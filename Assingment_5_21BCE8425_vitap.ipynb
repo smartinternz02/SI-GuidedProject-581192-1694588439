{
  "nbformat": 4,
  "nbformat_minor": 0,
  "metadata": {
    "colab": {
      "provenance": []
    },
    "kernelspec": {
      "name": "python3",
      "display_name": "Python 3"
    },
    "language_info": {
      "name": "python"
    }
  },
  "cells": [
    {
      "cell_type": "markdown",
      "source": [
        "1. import necessary libraries\n",
        "2. import dataset\n",
        "3. data preprocessing\n",
        "4. find optimal number of clusters -- elbow method\n",
        "5. train thr model on the dataset using the cluster k value\n",
        "6. visusalize the clusters"
      ],
      "metadata": {
        "id": "IvDHY9Ww2w6e"
      }
    },
    {
      "cell_type": "markdown",
      "source": [
        "1. Import the necessary libraries"
      ],
      "metadata": {
        "id": "-67BLS3w3NKZ"
      }
    },
    {
      "cell_type": "code",
      "execution_count": 2,
      "metadata": {
        "id": "T6txIssB2YNW"
      },
      "outputs": [],
      "source": [
        "import numpy as np\n",
        "import pandas as pd\n",
        "import matplotlib.pyplot as plt"
      ]
    },
    {
      "cell_type": "code",
      "source": [
        "df= pd.read_csv(\"Mall_Customers.csv\")\n",
        "df.head()"
      ],
      "metadata": {
        "colab": {
          "base_uri": "https://localhost:8080/",
          "height": 206
        },
        "id": "GUiXQiKT3ZcB",
        "outputId": "6a638929-6491-4dff-a402-9a97184951ad"
      },
      "execution_count": 3,
      "outputs": [
        {
          "output_type": "execute_result",
          "data": {
            "text/plain": [
              "   CustomerID   Genre  Age  Annual Income (k$)  Spending Score (1-100)\n",
              "0           1    Male   19                  15                      39\n",
              "1           2    Male   21                  15                      81\n",
              "2           3  Female   20                  16                       6\n",
              "3           4  Female   23                  16                      77\n",
              "4           5  Female   31                  17                      40"
            ],
            "text/html": [
              "\n",
              "  <div id=\"df-20f759ab-d815-41e7-a2f1-a75d3fd834cd\" class=\"colab-df-container\">\n",
              "    <div>\n",
              "<style scoped>\n",
              "    .dataframe tbody tr th:only-of-type {\n",
              "        vertical-align: middle;\n",
              "    }\n",
              "\n",
              "    .dataframe tbody tr th {\n",
              "        vertical-align: top;\n",
              "    }\n",
              "\n",
              "    .dataframe thead th {\n",
              "        text-align: right;\n",
              "    }\n",
              "</style>\n",
              "<table border=\"1\" class=\"dataframe\">\n",
              "  <thead>\n",
              "    <tr style=\"text-align: right;\">\n",
              "      <th></th>\n",
              "      <th>CustomerID</th>\n",
              "      <th>Genre</th>\n",
              "      <th>Age</th>\n",
              "      <th>Annual Income (k$)</th>\n",
              "      <th>Spending Score (1-100)</th>\n",
              "    </tr>\n",
              "  </thead>\n",
              "  <tbody>\n",
              "    <tr>\n",
              "      <th>0</th>\n",
              "      <td>1</td>\n",
              "      <td>Male</td>\n",
              "      <td>19</td>\n",
              "      <td>15</td>\n",
              "      <td>39</td>\n",
              "    </tr>\n",
              "    <tr>\n",
              "      <th>1</th>\n",
              "      <td>2</td>\n",
              "      <td>Male</td>\n",
              "      <td>21</td>\n",
              "      <td>15</td>\n",
              "      <td>81</td>\n",
              "    </tr>\n",
              "    <tr>\n",
              "      <th>2</th>\n",
              "      <td>3</td>\n",
              "      <td>Female</td>\n",
              "      <td>20</td>\n",
              "      <td>16</td>\n",
              "      <td>6</td>\n",
              "    </tr>\n",
              "    <tr>\n",
              "      <th>3</th>\n",
              "      <td>4</td>\n",
              "      <td>Female</td>\n",
              "      <td>23</td>\n",
              "      <td>16</td>\n",
              "      <td>77</td>\n",
              "    </tr>\n",
              "    <tr>\n",
              "      <th>4</th>\n",
              "      <td>5</td>\n",
              "      <td>Female</td>\n",
              "      <td>31</td>\n",
              "      <td>17</td>\n",
              "      <td>40</td>\n",
              "    </tr>\n",
              "  </tbody>\n",
              "</table>\n",
              "</div>\n",
              "    <div class=\"colab-df-buttons\">\n",
              "\n",
              "  <div class=\"colab-df-container\">\n",
              "    <button class=\"colab-df-convert\" onclick=\"convertToInteractive('df-20f759ab-d815-41e7-a2f1-a75d3fd834cd')\"\n",
              "            title=\"Convert this dataframe to an interactive table.\"\n",
              "            style=\"display:none;\">\n",
              "\n",
              "  <svg xmlns=\"http://www.w3.org/2000/svg\" height=\"24px\" viewBox=\"0 -960 960 960\">\n",
              "    <path d=\"M120-120v-720h720v720H120Zm60-500h600v-160H180v160Zm220 220h160v-160H400v160Zm0 220h160v-160H400v160ZM180-400h160v-160H180v160Zm440 0h160v-160H620v160ZM180-180h160v-160H180v160Zm440 0h160v-160H620v160Z\"/>\n",
              "  </svg>\n",
              "    </button>\n",
              "\n",
              "  <style>\n",
              "    .colab-df-container {\n",
              "      display:flex;\n",
              "      gap: 12px;\n",
              "    }\n",
              "\n",
              "    .colab-df-convert {\n",
              "      background-color: #E8F0FE;\n",
              "      border: none;\n",
              "      border-radius: 50%;\n",
              "      cursor: pointer;\n",
              "      display: none;\n",
              "      fill: #1967D2;\n",
              "      height: 32px;\n",
              "      padding: 0 0 0 0;\n",
              "      width: 32px;\n",
              "    }\n",
              "\n",
              "    .colab-df-convert:hover {\n",
              "      background-color: #E2EBFA;\n",
              "      box-shadow: 0px 1px 2px rgba(60, 64, 67, 0.3), 0px 1px 3px 1px rgba(60, 64, 67, 0.15);\n",
              "      fill: #174EA6;\n",
              "    }\n",
              "\n",
              "    .colab-df-buttons div {\n",
              "      margin-bottom: 4px;\n",
              "    }\n",
              "\n",
              "    [theme=dark] .colab-df-convert {\n",
              "      background-color: #3B4455;\n",
              "      fill: #D2E3FC;\n",
              "    }\n",
              "\n",
              "    [theme=dark] .colab-df-convert:hover {\n",
              "      background-color: #434B5C;\n",
              "      box-shadow: 0px 1px 3px 1px rgba(0, 0, 0, 0.15);\n",
              "      filter: drop-shadow(0px 1px 2px rgba(0, 0, 0, 0.3));\n",
              "      fill: #FFFFFF;\n",
              "    }\n",
              "  </style>\n",
              "\n",
              "    <script>\n",
              "      const buttonEl =\n",
              "        document.querySelector('#df-20f759ab-d815-41e7-a2f1-a75d3fd834cd button.colab-df-convert');\n",
              "      buttonEl.style.display =\n",
              "        google.colab.kernel.accessAllowed ? 'block' : 'none';\n",
              "\n",
              "      async function convertToInteractive(key) {\n",
              "        const element = document.querySelector('#df-20f759ab-d815-41e7-a2f1-a75d3fd834cd');\n",
              "        const dataTable =\n",
              "          await google.colab.kernel.invokeFunction('convertToInteractive',\n",
              "                                                    [key], {});\n",
              "        if (!dataTable) return;\n",
              "\n",
              "        const docLinkHtml = 'Like what you see? Visit the ' +\n",
              "          '<a target=\"_blank\" href=https://colab.research.google.com/notebooks/data_table.ipynb>data table notebook</a>'\n",
              "          + ' to learn more about interactive tables.';\n",
              "        element.innerHTML = '';\n",
              "        dataTable['output_type'] = 'display_data';\n",
              "        await google.colab.output.renderOutput(dataTable, element);\n",
              "        const docLink = document.createElement('div');\n",
              "        docLink.innerHTML = docLinkHtml;\n",
              "        element.appendChild(docLink);\n",
              "      }\n",
              "    </script>\n",
              "  </div>\n",
              "\n",
              "\n",
              "<div id=\"df-518680c5-8f81-42f5-a025-73b377a8e30d\">\n",
              "  <button class=\"colab-df-quickchart\" onclick=\"quickchart('df-518680c5-8f81-42f5-a025-73b377a8e30d')\"\n",
              "            title=\"Suggest charts.\"\n",
              "            style=\"display:none;\">\n",
              "\n",
              "<svg xmlns=\"http://www.w3.org/2000/svg\" height=\"24px\"viewBox=\"0 0 24 24\"\n",
              "     width=\"24px\">\n",
              "    <g>\n",
              "        <path d=\"M19 3H5c-1.1 0-2 .9-2 2v14c0 1.1.9 2 2 2h14c1.1 0 2-.9 2-2V5c0-1.1-.9-2-2-2zM9 17H7v-7h2v7zm4 0h-2V7h2v10zm4 0h-2v-4h2v4z\"/>\n",
              "    </g>\n",
              "</svg>\n",
              "  </button>\n",
              "\n",
              "<style>\n",
              "  .colab-df-quickchart {\n",
              "      --bg-color: #E8F0FE;\n",
              "      --fill-color: #1967D2;\n",
              "      --hover-bg-color: #E2EBFA;\n",
              "      --hover-fill-color: #174EA6;\n",
              "      --disabled-fill-color: #AAA;\n",
              "      --disabled-bg-color: #DDD;\n",
              "  }\n",
              "\n",
              "  [theme=dark] .colab-df-quickchart {\n",
              "      --bg-color: #3B4455;\n",
              "      --fill-color: #D2E3FC;\n",
              "      --hover-bg-color: #434B5C;\n",
              "      --hover-fill-color: #FFFFFF;\n",
              "      --disabled-bg-color: #3B4455;\n",
              "      --disabled-fill-color: #666;\n",
              "  }\n",
              "\n",
              "  .colab-df-quickchart {\n",
              "    background-color: var(--bg-color);\n",
              "    border: none;\n",
              "    border-radius: 50%;\n",
              "    cursor: pointer;\n",
              "    display: none;\n",
              "    fill: var(--fill-color);\n",
              "    height: 32px;\n",
              "    padding: 0;\n",
              "    width: 32px;\n",
              "  }\n",
              "\n",
              "  .colab-df-quickchart:hover {\n",
              "    background-color: var(--hover-bg-color);\n",
              "    box-shadow: 0 1px 2px rgba(60, 64, 67, 0.3), 0 1px 3px 1px rgba(60, 64, 67, 0.15);\n",
              "    fill: var(--button-hover-fill-color);\n",
              "  }\n",
              "\n",
              "  .colab-df-quickchart-complete:disabled,\n",
              "  .colab-df-quickchart-complete:disabled:hover {\n",
              "    background-color: var(--disabled-bg-color);\n",
              "    fill: var(--disabled-fill-color);\n",
              "    box-shadow: none;\n",
              "  }\n",
              "\n",
              "  .colab-df-spinner {\n",
              "    border: 2px solid var(--fill-color);\n",
              "    border-color: transparent;\n",
              "    border-bottom-color: var(--fill-color);\n",
              "    animation:\n",
              "      spin 1s steps(1) infinite;\n",
              "  }\n",
              "\n",
              "  @keyframes spin {\n",
              "    0% {\n",
              "      border-color: transparent;\n",
              "      border-bottom-color: var(--fill-color);\n",
              "      border-left-color: var(--fill-color);\n",
              "    }\n",
              "    20% {\n",
              "      border-color: transparent;\n",
              "      border-left-color: var(--fill-color);\n",
              "      border-top-color: var(--fill-color);\n",
              "    }\n",
              "    30% {\n",
              "      border-color: transparent;\n",
              "      border-left-color: var(--fill-color);\n",
              "      border-top-color: var(--fill-color);\n",
              "      border-right-color: var(--fill-color);\n",
              "    }\n",
              "    40% {\n",
              "      border-color: transparent;\n",
              "      border-right-color: var(--fill-color);\n",
              "      border-top-color: var(--fill-color);\n",
              "    }\n",
              "    60% {\n",
              "      border-color: transparent;\n",
              "      border-right-color: var(--fill-color);\n",
              "    }\n",
              "    80% {\n",
              "      border-color: transparent;\n",
              "      border-right-color: var(--fill-color);\n",
              "      border-bottom-color: var(--fill-color);\n",
              "    }\n",
              "    90% {\n",
              "      border-color: transparent;\n",
              "      border-bottom-color: var(--fill-color);\n",
              "    }\n",
              "  }\n",
              "</style>\n",
              "\n",
              "  <script>\n",
              "    async function quickchart(key) {\n",
              "      const quickchartButtonEl =\n",
              "        document.querySelector('#' + key + ' button');\n",
              "      quickchartButtonEl.disabled = true;  // To prevent multiple clicks.\n",
              "      quickchartButtonEl.classList.add('colab-df-spinner');\n",
              "      try {\n",
              "        const charts = await google.colab.kernel.invokeFunction(\n",
              "            'suggestCharts', [key], {});\n",
              "      } catch (error) {\n",
              "        console.error('Error during call to suggestCharts:', error);\n",
              "      }\n",
              "      quickchartButtonEl.classList.remove('colab-df-spinner');\n",
              "      quickchartButtonEl.classList.add('colab-df-quickchart-complete');\n",
              "    }\n",
              "    (() => {\n",
              "      let quickchartButtonEl =\n",
              "        document.querySelector('#df-518680c5-8f81-42f5-a025-73b377a8e30d button');\n",
              "      quickchartButtonEl.style.display =\n",
              "        google.colab.kernel.accessAllowed ? 'block' : 'none';\n",
              "    })();\n",
              "  </script>\n",
              "</div>\n",
              "    </div>\n",
              "  </div>\n"
            ]
          },
          "metadata": {},
          "execution_count": 3
        }
      ]
    },
    {
      "cell_type": "code",
      "source": [
        "df.info()"
      ],
      "metadata": {
        "colab": {
          "base_uri": "https://localhost:8080/"
        },
        "id": "thPxQiWL3xHb",
        "outputId": "0d88aa71-e990-424c-c128-32b80a191e64"
      },
      "execution_count": 4,
      "outputs": [
        {
          "output_type": "stream",
          "name": "stdout",
          "text": [
            "<class 'pandas.core.frame.DataFrame'>\n",
            "RangeIndex: 200 entries, 0 to 199\n",
            "Data columns (total 5 columns):\n",
            " #   Column                  Non-Null Count  Dtype \n",
            "---  ------                  --------------  ----- \n",
            " 0   CustomerID              200 non-null    int64 \n",
            " 1   Genre                   200 non-null    object\n",
            " 2   Age                     200 non-null    int64 \n",
            " 3   Annual Income (k$)      200 non-null    int64 \n",
            " 4   Spending Score (1-100)  200 non-null    int64 \n",
            "dtypes: int64(4), object(1)\n",
            "memory usage: 7.9+ KB\n"
          ]
        }
      ]
    },
    {
      "cell_type": "code",
      "source": [
        "X= df.iloc[:,3:].values\n"
      ],
      "metadata": {
        "id": "DsD1YShI32WH"
      },
      "execution_count": 5,
      "outputs": []
    },
    {
      "cell_type": "code",
      "source": [
        "X"
      ],
      "metadata": {
        "colab": {
          "base_uri": "https://localhost:8080/"
        },
        "id": "orRcCIsudAUI",
        "outputId": "2479c1b4-51cb-47a4-d570-dd60da8e7afe"
      },
      "execution_count": 6,
      "outputs": [
        {
          "output_type": "execute_result",
          "data": {
            "text/plain": [
              "array([[ 15,  39],\n",
              "       [ 15,  81],\n",
              "       [ 16,   6],\n",
              "       [ 16,  77],\n",
              "       [ 17,  40],\n",
              "       [ 17,  76],\n",
              "       [ 18,   6],\n",
              "       [ 18,  94],\n",
              "       [ 19,   3],\n",
              "       [ 19,  72],\n",
              "       [ 19,  14],\n",
              "       [ 19,  99],\n",
              "       [ 20,  15],\n",
              "       [ 20,  77],\n",
              "       [ 20,  13],\n",
              "       [ 20,  79],\n",
              "       [ 21,  35],\n",
              "       [ 21,  66],\n",
              "       [ 23,  29],\n",
              "       [ 23,  98],\n",
              "       [ 24,  35],\n",
              "       [ 24,  73],\n",
              "       [ 25,   5],\n",
              "       [ 25,  73],\n",
              "       [ 28,  14],\n",
              "       [ 28,  82],\n",
              "       [ 28,  32],\n",
              "       [ 28,  61],\n",
              "       [ 29,  31],\n",
              "       [ 29,  87],\n",
              "       [ 30,   4],\n",
              "       [ 30,  73],\n",
              "       [ 33,   4],\n",
              "       [ 33,  92],\n",
              "       [ 33,  14],\n",
              "       [ 33,  81],\n",
              "       [ 34,  17],\n",
              "       [ 34,  73],\n",
              "       [ 37,  26],\n",
              "       [ 37,  75],\n",
              "       [ 38,  35],\n",
              "       [ 38,  92],\n",
              "       [ 39,  36],\n",
              "       [ 39,  61],\n",
              "       [ 39,  28],\n",
              "       [ 39,  65],\n",
              "       [ 40,  55],\n",
              "       [ 40,  47],\n",
              "       [ 40,  42],\n",
              "       [ 40,  42],\n",
              "       [ 42,  52],\n",
              "       [ 42,  60],\n",
              "       [ 43,  54],\n",
              "       [ 43,  60],\n",
              "       [ 43,  45],\n",
              "       [ 43,  41],\n",
              "       [ 44,  50],\n",
              "       [ 44,  46],\n",
              "       [ 46,  51],\n",
              "       [ 46,  46],\n",
              "       [ 46,  56],\n",
              "       [ 46,  55],\n",
              "       [ 47,  52],\n",
              "       [ 47,  59],\n",
              "       [ 48,  51],\n",
              "       [ 48,  59],\n",
              "       [ 48,  50],\n",
              "       [ 48,  48],\n",
              "       [ 48,  59],\n",
              "       [ 48,  47],\n",
              "       [ 49,  55],\n",
              "       [ 49,  42],\n",
              "       [ 50,  49],\n",
              "       [ 50,  56],\n",
              "       [ 54,  47],\n",
              "       [ 54,  54],\n",
              "       [ 54,  53],\n",
              "       [ 54,  48],\n",
              "       [ 54,  52],\n",
              "       [ 54,  42],\n",
              "       [ 54,  51],\n",
              "       [ 54,  55],\n",
              "       [ 54,  41],\n",
              "       [ 54,  44],\n",
              "       [ 54,  57],\n",
              "       [ 54,  46],\n",
              "       [ 57,  58],\n",
              "       [ 57,  55],\n",
              "       [ 58,  60],\n",
              "       [ 58,  46],\n",
              "       [ 59,  55],\n",
              "       [ 59,  41],\n",
              "       [ 60,  49],\n",
              "       [ 60,  40],\n",
              "       [ 60,  42],\n",
              "       [ 60,  52],\n",
              "       [ 60,  47],\n",
              "       [ 60,  50],\n",
              "       [ 61,  42],\n",
              "       [ 61,  49],\n",
              "       [ 62,  41],\n",
              "       [ 62,  48],\n",
              "       [ 62,  59],\n",
              "       [ 62,  55],\n",
              "       [ 62,  56],\n",
              "       [ 62,  42],\n",
              "       [ 63,  50],\n",
              "       [ 63,  46],\n",
              "       [ 63,  43],\n",
              "       [ 63,  48],\n",
              "       [ 63,  52],\n",
              "       [ 63,  54],\n",
              "       [ 64,  42],\n",
              "       [ 64,  46],\n",
              "       [ 65,  48],\n",
              "       [ 65,  50],\n",
              "       [ 65,  43],\n",
              "       [ 65,  59],\n",
              "       [ 67,  43],\n",
              "       [ 67,  57],\n",
              "       [ 67,  56],\n",
              "       [ 67,  40],\n",
              "       [ 69,  58],\n",
              "       [ 69,  91],\n",
              "       [ 70,  29],\n",
              "       [ 70,  77],\n",
              "       [ 71,  35],\n",
              "       [ 71,  95],\n",
              "       [ 71,  11],\n",
              "       [ 71,  75],\n",
              "       [ 71,   9],\n",
              "       [ 71,  75],\n",
              "       [ 72,  34],\n",
              "       [ 72,  71],\n",
              "       [ 73,   5],\n",
              "       [ 73,  88],\n",
              "       [ 73,   7],\n",
              "       [ 73,  73],\n",
              "       [ 74,  10],\n",
              "       [ 74,  72],\n",
              "       [ 75,   5],\n",
              "       [ 75,  93],\n",
              "       [ 76,  40],\n",
              "       [ 76,  87],\n",
              "       [ 77,  12],\n",
              "       [ 77,  97],\n",
              "       [ 77,  36],\n",
              "       [ 77,  74],\n",
              "       [ 78,  22],\n",
              "       [ 78,  90],\n",
              "       [ 78,  17],\n",
              "       [ 78,  88],\n",
              "       [ 78,  20],\n",
              "       [ 78,  76],\n",
              "       [ 78,  16],\n",
              "       [ 78,  89],\n",
              "       [ 78,   1],\n",
              "       [ 78,  78],\n",
              "       [ 78,   1],\n",
              "       [ 78,  73],\n",
              "       [ 79,  35],\n",
              "       [ 79,  83],\n",
              "       [ 81,   5],\n",
              "       [ 81,  93],\n",
              "       [ 85,  26],\n",
              "       [ 85,  75],\n",
              "       [ 86,  20],\n",
              "       [ 86,  95],\n",
              "       [ 87,  27],\n",
              "       [ 87,  63],\n",
              "       [ 87,  13],\n",
              "       [ 87,  75],\n",
              "       [ 87,  10],\n",
              "       [ 87,  92],\n",
              "       [ 88,  13],\n",
              "       [ 88,  86],\n",
              "       [ 88,  15],\n",
              "       [ 88,  69],\n",
              "       [ 93,  14],\n",
              "       [ 93,  90],\n",
              "       [ 97,  32],\n",
              "       [ 97,  86],\n",
              "       [ 98,  15],\n",
              "       [ 98,  88],\n",
              "       [ 99,  39],\n",
              "       [ 99,  97],\n",
              "       [101,  24],\n",
              "       [101,  68],\n",
              "       [103,  17],\n",
              "       [103,  85],\n",
              "       [103,  23],\n",
              "       [103,  69],\n",
              "       [113,   8],\n",
              "       [113,  91],\n",
              "       [120,  16],\n",
              "       [120,  79],\n",
              "       [126,  28],\n",
              "       [126,  74],\n",
              "       [137,  18],\n",
              "       [137,  83]])"
            ]
          },
          "metadata": {},
          "execution_count": 6
        }
      ]
    },
    {
      "cell_type": "code",
      "source": [
        "plt.scatter(X[:,0],X[:,1])"
      ],
      "metadata": {
        "colab": {
          "base_uri": "https://localhost:8080/",
          "height": 447
        },
        "id": "mhtCJEt85sSQ",
        "outputId": "65525493-63b0-493d-82c8-bad300b8c1c8"
      },
      "execution_count": 7,
      "outputs": [
        {
          "output_type": "execute_result",
          "data": {
            "text/plain": [
              "<matplotlib.collections.PathCollection at 0x78883269c850>"
            ]
          },
          "metadata": {},
          "execution_count": 7
        },
        {
          "output_type": "display_data",
          "data": {
            "text/plain": [
              "<Figure size 640x480 with 1 Axes>"
            ],
            "image/png": "[encoded data removed]"
          },
          "metadata": {}
        }
      ]
    },
    {
      "cell_type": "markdown",
      "source": [
        "4. find optimal number of clusters -- elbow method"
      ],
      "metadata": {
        "id": "wH_vVsFK6vDK"
      }
    },
    {
      "cell_type": "code",
      "source": [
        "#WCSS= sum of the distances of observations from their cluster centroids\n",
        "#k wcss"
      ],
      "metadata": {
        "id": "XthIkLXp6lug"
      },
      "execution_count": 8,
      "outputs": []
    },
    {
      "cell_type": "code",
      "source": [
        "from sklearn.cluster import KMeans\n",
        "#intialise the list to store wcss values\n",
        "wcss=[]\n",
        "# Try different values of K (from 1 to 10) and calculate WCSS for each K\n",
        "#K-Means++ to Choose Initial Cluster Centroids for K-Means Clustering\n",
        "for k in range(1,11): #k= 1 to 10\n",
        "    kmeans=KMeans(n_clusters=k,init=\"k-means++\",random_state=0)\n",
        "    kmeans.fit(X)\n",
        "    wcss.append(kmeans.inertia_)"
      ],
      "metadata": {
        "colab": {
          "base_uri": "https://localhost:8080/"
        },
        "id": "zQiZCf6Y68XZ",
        "outputId": "a9a504b9-d919-47ce-d6e3-f61a0b765432"
      },
      "execution_count": 9,
      "outputs": [
        {
          "output_type": "stream",
          "name": "stderr",
          "text": [
            "/usr/local/lib/python3.10/dist-packages/sklearn/cluster/_kmeans.py:870: FutureWarning: The default value of `n_init` will change from 10 to 'auto' in 1.4. Set the value of `n_init` explicitly to suppress the warning\n",
            "  warnings.warn(\n",
            "/usr/local/lib/python3.10/dist-packages/sklearn/cluster/_kmeans.py:870: FutureWarning: The default value of `n_init` will change from 10 to 'auto' in 1.4. Set the value of `n_init` explicitly to suppress the warning\n",
            "  warnings.warn(\n",
            "/usr/local/lib/python3.10/dist-packages/sklearn/cluster/_kmeans.py:870: FutureWarning: The default value of `n_init` will change from 10 to 'auto' in 1.4. Set the value of `n_init` explicitly to suppress the warning\n",
            "  warnings.warn(\n",
            "/usr/local/lib/python3.10/dist-packages/sklearn/cluster/_kmeans.py:870: FutureWarning: The default value of `n_init` will change from 10 to 'auto' in 1.4. Set the value of `n_init` explicitly to suppress the warning\n",
            "  warnings.warn(\n",
            "/usr/local/lib/python3.10/dist-packages/sklearn/cluster/_kmeans.py:870: FutureWarning: The default value of `n_init` will change from 10 to 'auto' in 1.4. Set the value of `n_init` explicitly to suppress the warning\n",
            "  warnings.warn(\n",
            "/usr/local/lib/python3.10/dist-packages/sklearn/cluster/_kmeans.py:870: FutureWarning: The default value of `n_init` will change from 10 to 'auto' in 1.4. Set the value of `n_init` explicitly to suppress the warning\n",
            "  warnings.warn(\n",
            "/usr/local/lib/python3.10/dist-packages/sklearn/cluster/_kmeans.py:870: FutureWarning: The default value of `n_init` will change from 10 to 'auto' in 1.4. Set the value of `n_init` explicitly to suppress the warning\n",
            "  warnings.warn(\n",
            "/usr/local/lib/python3.10/dist-packages/sklearn/cluster/_kmeans.py:870: FutureWarning: The default value of `n_init` will change from 10 to 'auto' in 1.4. Set the value of `n_init` explicitly to suppress the warning\n",
            "  warnings.warn(\n",
            "/usr/local/lib/python3.10/dist-packages/sklearn/cluster/_kmeans.py:870: FutureWarning: The default value of `n_init` will change from 10 to 'auto' in 1.4. Set the value of `n_init` explicitly to suppress the warning\n",
            "  warnings.warn(\n",
            "/usr/local/lib/python3.10/dist-packages/sklearn/cluster/_kmeans.py:870: FutureWarning: The default value of `n_init` will change from 10 to 'auto' in 1.4. Set the value of `n_init` explicitly to suppress the warning\n",
            "  warnings.warn(\n"
          ]
        }
      ]
    },
    {
      "cell_type": "code",
      "source": [
        "wcss"
      ],
      "metadata": {
        "colab": {
          "base_uri": "https://localhost:8080/"
        },
        "id": "bh2lXenq8HKm",
        "outputId": "d2751197-b4cf-4de2-927d-6f153f10e104"
      },
      "execution_count": 10,
      "outputs": [
        {
          "output_type": "execute_result",
          "data": {
            "text/plain": [
              "[269981.28,\n",
              " 181363.59595959593,\n",
              " 106348.37306211122,\n",
              " 73679.78903948836,\n",
              " 44448.4554479337,\n",
              " 37265.86520484346,\n",
              " 30259.65720728547,\n",
              " 25095.70320999756,\n",
              " 21830.041978049434,\n",
              " 20736.679938924128]"
            ]
          },
          "metadata": {},
          "execution_count": 10
        }
      ]
    },
    {
      "cell_type": "code",
      "source": [
        "plt.figure(figsize=(8,6))\n",
        "plt.plot(range(1,11),wcss,marker=\"o\",color=\"red\")\n",
        "plt.title(\"Elbow method for finding optimal k\")\n",
        "plt.xlabel(\"number of clusters k\")\n",
        "plt.ylabel(\"wcss\")\n",
        "plt.grid()\n",
        "plt.show()"
      ],
      "metadata": {
        "colab": {
          "base_uri": "https://localhost:8080/",
          "height": 564
        },
        "id": "z9eA2FVN8jx8",
        "outputId": "721ff8bd-f8a7-4380-8425-a07064a3606d"
      },
      "execution_count": 11,
      "outputs": [
        {
          "output_type": "display_data",
          "data": {
            "text/plain": [
              "<Figure size 800x600 with 1 Axes>"
            ],
            "image/png": "[encoded data removed]"
          },
          "metadata": {}
        }
      ]
    },
    {
      "cell_type": "markdown",
      "source": [
        "#5. train thr model on the dataset using the cluster k value"
      ],
      "metadata": {
        "id": "5ek5Anwr-SCW"
      }
    },
    {
      "cell_type": "code",
      "source": [
        "kmeans = KMeans(n_clusters=5,init=\"k-means++\",random_state=0)\n",
        "# return a label for data based on their cluster\n",
        "y_kmeans =kmeans.fit_predict(X)"
      ],
      "metadata": {
        "colab": {
          "base_uri": "https://localhost:8080/"
        },
        "id": "Ua6ITN199e7k",
        "outputId": "461584d5-25a1-4ee9-a547-639bc1501808"
      },
      "execution_count": 12,
      "outputs": [
        {
          "output_type": "stream",
          "name": "stderr",
          "text": [
            "/usr/local/lib/python3.10/dist-packages/sklearn/cluster/_kmeans.py:870: FutureWarning: The default value of `n_init` will change from 10 to 'auto' in 1.4. Set the value of `n_init` explicitly to suppress the warning\n",
            "  warnings.warn(\n"
          ]
        }
      ]
    },
    {
      "cell_type": "code",
      "source": [
        "y_kmeans"
      ],
      "metadata": {
        "colab": {
          "base_uri": "https://localhost:8080/"
        },
        "id": "pmuwkZCP-0tC",
        "outputId": "c085c00a-039c-4a1f-b3fe-0269bc5b2c8e"
      },
      "execution_count": 13,
      "outputs": [
        {
          "output_type": "execute_result",
          "data": {
            "text/plain": [
              "array([4, 3, 4, 3, 4, 3, 4, 3, 4, 3, 4, 3, 4, 3, 4, 3, 4, 3, 4, 3, 4, 3,\n",
              "       4, 3, 4, 3, 4, 3, 4, 3, 4, 3, 4, 3, 4, 3, 4, 3, 4, 3, 4, 3, 4, 1,\n",
              "       4, 3, 1, 1, 1, 1, 1, 1, 1, 1, 1, 1, 1, 1, 1, 1, 1, 1, 1, 1, 1, 1,\n",
              "       1, 1, 1, 1, 1, 1, 1, 1, 1, 1, 1, 1, 1, 1, 1, 1, 1, 1, 1, 1, 1, 1,\n",
              "       1, 1, 1, 1, 1, 1, 1, 1, 1, 1, 1, 1, 1, 1, 1, 1, 1, 1, 1, 1, 1, 1,\n",
              "       1, 1, 1, 1, 1, 1, 1, 1, 1, 1, 1, 1, 1, 2, 0, 2, 1, 2, 0, 2, 0, 2,\n",
              "       1, 2, 0, 2, 0, 2, 0, 2, 0, 2, 1, 2, 0, 2, 0, 2, 0, 2, 0, 2, 0, 2,\n",
              "       0, 2, 0, 2, 0, 2, 0, 2, 0, 2, 0, 2, 0, 2, 0, 2, 0, 2, 0, 2, 0, 2,\n",
              "       0, 2, 0, 2, 0, 2, 0, 2, 0, 2, 0, 2, 0, 2, 0, 2, 0, 2, 0, 2, 0, 2,\n",
              "       0, 2], dtype=int32)"
            ]
          },
          "metadata": {},
          "execution_count": 13
        }
      ]
    },
    {
      "cell_type": "code",
      "source": [
        "X"
      ],
      "metadata": {
        "colab": {
          "base_uri": "https://localhost:8080/"
        },
        "id": "tSUWBWJa_AnG",
        "outputId": "c8e66d33-93e0-46aa-ff01-bf630047ef4a"
      },
      "execution_count": 14,
      "outputs": [
        {
          "output_type": "execute_result",
          "data": {
            "text/plain": [
              "array([[ 15,  39],\n",
              "       [ 15,  81],\n",
              "       [ 16,   6],\n",
              "       [ 16,  77],\n",
              "       [ 17,  40],\n",
              "       [ 17,  76],\n",
              "       [ 18,   6],\n",
              "       [ 18,  94],\n",
              "       [ 19,   3],\n",
              "       [ 19,  72],\n",
              "       [ 19,  14],\n",
              "       [ 19,  99],\n",
              "       [ 20,  15],\n",
              "       [ 20,  77],\n",
              "       [ 20,  13],\n",
              "       [ 20,  79],\n",
              "       [ 21,  35],\n",
              "       [ 21,  66],\n",
              "       [ 23,  29],\n",
              "       [ 23,  98],\n",
              "       [ 24,  35],\n",
              "       [ 24,  73],\n",
              "       [ 25,   5],\n",
              "       [ 25,  73],\n",
              "       [ 28,  14],\n",
              "       [ 28,  82],\n",
              "       [ 28,  32],\n",
              "       [ 28,  61],\n",
              "       [ 29,  31],\n",
              "       [ 29,  87],\n",
              "       [ 30,   4],\n",
              "       [ 30,  73],\n",
              "       [ 33,   4],\n",
              "       [ 33,  92],\n",
              "       [ 33,  14],\n",
              "       [ 33,  81],\n",
              "       [ 34,  17],\n",
              "       [ 34,  73],\n",
              "       [ 37,  26],\n",
              "       [ 37,  75],\n",
              "       [ 38,  35],\n",
              "       [ 38,  92],\n",
              "       [ 39,  36],\n",
              "       [ 39,  61],\n",
              "       [ 39,  28],\n",
              "       [ 39,  65],\n",
              "       [ 40,  55],\n",
              "       [ 40,  47],\n",
              "       [ 40,  42],\n",
              "       [ 40,  42],\n",
              "       [ 42,  52],\n",
              "       [ 42,  60],\n",
              "       [ 43,  54],\n",
              "       [ 43,  60],\n",
              "       [ 43,  45],\n",
              "       [ 43,  41],\n",
              "       [ 44,  50],\n",
              "       [ 44,  46],\n",
              "       [ 46,  51],\n",
              "       [ 46,  46],\n",
              "       [ 46,  56],\n",
              "       [ 46,  55],\n",
              "       [ 47,  52],\n",
              "       [ 47,  59],\n",
              "       [ 48,  51],\n",
              "       [ 48,  59],\n",
              "       [ 48,  50],\n",
              "       [ 48,  48],\n",
              "       [ 48,  59],\n",
              "       [ 48,  47],\n",
              "       [ 49,  55],\n",
              "       [ 49,  42],\n",
              "       [ 50,  49],\n",
              "       [ 50,  56],\n",
              "       [ 54,  47],\n",
              "       [ 54,  54],\n",
              "       [ 54,  53],\n",
              "       [ 54,  48],\n",
              "       [ 54,  52],\n",
              "       [ 54,  42],\n",
              "       [ 54,  51],\n",
              "       [ 54,  55],\n",
              "       [ 54,  41],\n",
              "       [ 54,  44],\n",
              "       [ 54,  57],\n",
              "       [ 54,  46],\n",
              "       [ 57,  58],\n",
              "       [ 57,  55],\n",
              "       [ 58,  60],\n",
              "       [ 58,  46],\n",
              "       [ 59,  55],\n",
              "       [ 59,  41],\n",
              "       [ 60,  49],\n",
              "       [ 60,  40],\n",
              "       [ 60,  42],\n",
              "       [ 60,  52],\n",
              "       [ 60,  47],\n",
              "       [ 60,  50],\n",
              "       [ 61,  42],\n",
              "       [ 61,  49],\n",
              "       [ 62,  41],\n",
              "       [ 62,  48],\n",
              "       [ 62,  59],\n",
              "       [ 62,  55],\n",
              "       [ 62,  56],\n",
              "       [ 62,  42],\n",
              "       [ 63,  50],\n",
              "       [ 63,  46],\n",
              "       [ 63,  43],\n",
              "       [ 63,  48],\n",
              "       [ 63,  52],\n",
              "       [ 63,  54],\n",
              "       [ 64,  42],\n",
              "       [ 64,  46],\n",
              "       [ 65,  48],\n",
              "       [ 65,  50],\n",
              "       [ 65,  43],\n",
              "       [ 65,  59],\n",
              "       [ 67,  43],\n",
              "       [ 67,  57],\n",
              "       [ 67,  56],\n",
              "       [ 67,  40],\n",
              "       [ 69,  58],\n",
              "       [ 69,  91],\n",
              "       [ 70,  29],\n",
              "       [ 70,  77],\n",
              "       [ 71,  35],\n",
              "       [ 71,  95],\n",
              "       [ 71,  11],\n",
              "       [ 71,  75],\n",
              "       [ 71,   9],\n",
              "       [ 71,  75],\n",
              "       [ 72,  34],\n",
              "       [ 72,  71],\n",
              "       [ 73,   5],\n",
              "       [ 73,  88],\n",
              "       [ 73,   7],\n",
              "       [ 73,  73],\n",
              "       [ 74,  10],\n",
              "       [ 74,  72],\n",
              "       [ 75,   5],\n",
              "       [ 75,  93],\n",
              "       [ 76,  40],\n",
              "       [ 76,  87],\n",
              "       [ 77,  12],\n",
              "       [ 77,  97],\n",
              "       [ 77,  36],\n",
              "       [ 77,  74],\n",
              "       [ 78,  22],\n",
              "       [ 78,  90],\n",
              "       [ 78,  17],\n",
              "       [ 78,  88],\n",
              "       [ 78,  20],\n",
              "       [ 78,  76],\n",
              "       [ 78,  16],\n",
              "       [ 78,  89],\n",
              "       [ 78,   1],\n",
              "       [ 78,  78],\n",
              "       [ 78,   1],\n",
              "       [ 78,  73],\n",
              "       [ 79,  35],\n",
              "       [ 79,  83],\n",
              "       [ 81,   5],\n",
              "       [ 81,  93],\n",
              "       [ 85,  26],\n",
              "       [ 85,  75],\n",
              "       [ 86,  20],\n",
              "       [ 86,  95],\n",
              "       [ 87,  27],\n",
              "       [ 87,  63],\n",
              "       [ 87,  13],\n",
              "       [ 87,  75],\n",
              "       [ 87,  10],\n",
              "       [ 87,  92],\n",
              "       [ 88,  13],\n",
              "       [ 88,  86],\n",
              "       [ 88,  15],\n",
              "       [ 88,  69],\n",
              "       [ 93,  14],\n",
              "       [ 93,  90],\n",
              "       [ 97,  32],\n",
              "       [ 97,  86],\n",
              "       [ 98,  15],\n",
              "       [ 98,  88],\n",
              "       [ 99,  39],\n",
              "       [ 99,  97],\n",
              "       [101,  24],\n",
              "       [101,  68],\n",
              "       [103,  17],\n",
              "       [103,  85],\n",
              "       [103,  23],\n",
              "       [103,  69],\n",
              "       [113,   8],\n",
              "       [113,  91],\n",
              "       [120,  16],\n",
              "       [120,  79],\n",
              "       [126,  28],\n",
              "       [126,  74],\n",
              "       [137,  18],\n",
              "       [137,  83]])"
            ]
          },
          "metadata": {},
          "execution_count": 14
        }
      ]
    },
    {
      "cell_type": "markdown",
      "source": [
        "6. Visualize the clusters"
      ],
      "metadata": {
        "id": "hfr8vwyaBBbv"
      }
    },
    {
      "cell_type": "code",
      "source": [
        "#how many no.of datapoints belonging to 0 th cluster ffrom 0 th column anuual income\n",
        "X[y_kmeans==0,0]"
      ],
      "metadata": {
        "colab": {
          "base_uri": "https://localhost:8080/"
        },
        "id": "cO-t-x1q_CHR",
        "outputId": "8041a60b-71ea-43f6-e525-76adee4c4229"
      },
      "execution_count": 15,
      "outputs": [
        {
          "output_type": "execute_result",
          "data": {
            "text/plain": [
              "array([ 70,  71,  71,  73,  73,  74,  75,  77,  77,  78,  78,  78,  78,\n",
              "        78,  78,  79,  81,  85,  86,  87,  87,  87,  88,  88,  93,  97,\n",
              "        98,  99, 101, 103, 103, 113, 120, 126, 137])"
            ]
          },
          "metadata": {},
          "execution_count": 15
        }
      ]
    },
    {
      "cell_type": "code",
      "source": [
        "plt.scatter(X[y_kmeans==0,0],X[y_kmeans==0,1],color=\"red\",s=100,label=\"cluster1\")"
      ],
      "metadata": {
        "id": "3FYpPgjNBWBd",
        "colab": {
          "base_uri": "https://localhost:8080/",
          "height": 447
        },
        "outputId": "7f5d4fa5-9196-404a-e25b-4a0ab13c5a08"
      },
      "execution_count": 16,
      "outputs": [
        {
          "output_type": "execute_result",
          "data": {
            "text/plain": [
              "<matplotlib.collections.PathCollection at 0x78882ce6ca00>"
            ]
          },
          "metadata": {},
          "execution_count": 16
        },
        {
          "output_type": "display_data",
          "data": {
            "text/plain": [
              "<Figure size 640x480 with 1 Axes>"
            ],
            "image/png": "[encoded data removed]"
          },
          "metadata": {}
        }
      ]
    },
    {
      "cell_type": "code",
      "source": [
        "plt.scatter(X[y_kmeans==0,0],X[y_kmeans==0,1],color=\"red\",s=100,label=\"cluster1\")\n",
        "plt.scatter(X[y_kmeans==1,0],X[y_kmeans==1,1],color=\"cyan\",s=100,label=\"cluster2\")\n",
        "plt.scatter(X[y_kmeans==2,0],X[y_kmeans==2,1],color=\"green\",s=100,label=\"cluster3\")\n",
        "plt.scatter(X[y_kmeans==3,0],X[y_kmeans==3,1],color=\"orange\",s=100,label=\"cluster4\")\n",
        "plt.scatter(X[y_kmeans==4,0],X[y_kmeans==4,1],color=\"blue\",s=100,label=\"cluster5\")\n",
        "plt.scatter(kmeans.cluster_centers_[:,0],kmeans.cluster_centers_[:,1],color=\"yellow\",s=300,label=\"centroid\")"
      ],
      "metadata": {
        "id": "KuL8Xf-TBieb",
        "colab": {
          "base_uri": "https://localhost:8080/",
          "height": 447
        },
        "outputId": "34277b0c-d02b-461a-d229-9fa60b0dd236"
      },
      "execution_count": 17,
      "outputs": [
        {
          "output_type": "execute_result",
          "data": {
            "text/plain": [
              "<matplotlib.collections.PathCollection at 0x78882ceeb7c0>"
            ]
          },
          "metadata": {},
          "execution_count": 17
        },
        {
          "output_type": "display_data",
          "data": {
            "text/plain": [
              "<Figure size 640x480 with 1 Axes>"
            ],
            "image/png": "[encoded data removed]"
          },
          "metadata": {}
        }
      ]
    },
    {
      "cell_type": "markdown",
      "source": [
        "#label Encoding"
      ],
      "metadata": {
        "id": "Cq5wvtSOdZFs"
      }
    },
    {
      "cell_type": "code",
      "source": [
        "from sklearn.preprocessing import LabelEncoder"
      ],
      "metadata": {
        "id": "dSZzr4MxdeaR"
      },
      "execution_count": 18,
      "outputs": []
    },
    {
      "cell_type": "code",
      "source": [
        "le= LabelEncoder()"
      ],
      "metadata": {
        "id": "hqP64KEAdf3s"
      },
      "execution_count": 19,
      "outputs": []
    },
    {
      "cell_type": "code",
      "source": [
        "df[\"Genre\"]= le.fit_transform(df[\"Genre\"])"
      ],
      "metadata": {
        "id": "oNezMrwfdh72"
      },
      "execution_count": 20,
      "outputs": []
    },
    {
      "cell_type": "code",
      "source": [
        "df[\"Genre\"]"
      ],
      "metadata": {
        "colab": {
          "base_uri": "https://localhost:8080/"
        },
        "id": "JwCotldmd4hP",
        "outputId": "4abc34e1-dfb8-448b-c2af-fe825fde62bc"
      },
      "execution_count": 21,
      "outputs": [
        {
          "output_type": "execute_result",
          "data": {
            "text/plain": [
              "0      1\n",
              "1      1\n",
              "2      0\n",
              "3      0\n",
              "4      0\n",
              "      ..\n",
              "195    0\n",
              "196    0\n",
              "197    1\n",
              "198    1\n",
              "199    1\n",
              "Name: Genre, Length: 200, dtype: int64"
            ]
          },
          "metadata": {},
          "execution_count": 21
        }
      ]
    },
    {
      "cell_type": "markdown",
      "source": [
        "# 7. Splitting into training and testing set"
      ],
      "metadata": {
        "id": "lqWb6XS8eZr5"
      }
    },
    {
      "cell_type": "code",
      "source": [
        "from pandas.core.common import random_state\n",
        "from sklearn.model_selection import train_test_split\n",
        "df_train,df_test= train_test_split(df,test_size=0.3,random_state=0)"
      ],
      "metadata": {
        "id": "i9HZVf9UeOhG"
      },
      "execution_count": 22,
      "outputs": []
    },
    {
      "cell_type": "code",
      "source": [
        "df_train.shape,df_test.shape"
      ],
      "metadata": {
        "colab": {
          "base_uri": "https://localhost:8080/"
        },
        "id": "_pePAJWRmRJa",
        "outputId": "0250be84-afd8-42cf-d420-da72a58cb1fe"
      },
      "execution_count": 23,
      "outputs": [
        {
          "output_type": "execute_result",
          "data": {
            "text/plain": [
              "((140, 5), (60, 5))"
            ]
          },
          "metadata": {},
          "execution_count": 23
        }
      ]
    },
    {
      "cell_type": "markdown",
      "source": [
        "#Standard Scaling"
      ],
      "metadata": {
        "id": "spXTJsPSnUIw"
      }
    },
    {
      "cell_type": "code",
      "source": [
        "from sklearn.preprocessing import StandardScaler\n",
        "sc = StandardScaler()"
      ],
      "metadata": {
        "id": "dI-W__A_nMNl"
      },
      "execution_count": 24,
      "outputs": []
    },
    {
      "cell_type": "code",
      "source": [
        "df_train = sc.fit_transform(df_train)\n",
        "df_test= sc.fit_transform(df_test)"
      ],
      "metadata": {
        "id": "NWGOnyr2nYYE"
      },
      "execution_count": 25,
      "outputs": []
    },
    {
      "cell_type": "code",
      "source": [
        "df_train"
      ],
      "metadata": {
        "colab": {
          "base_uri": "https://localhost:8080/"
        },
        "id": "9oSNpd43ncpM",
        "outputId": "3f83ee61-d40a-40f6-a303-4b9826fddd10"
      },
      "execution_count": 26,
      "outputs": [
        {
          "output_type": "execute_result",
          "data": {
            "text/plain": [
              "array([[ 5.39574890e-01,  1.12163475e+00,  6.38513550e-02,\n",
              "         3.66638822e-01,  9.47366216e-01],\n",
              "       [-6.86415721e-02, -8.91555828e-01,  6.31418955e-01,\n",
              "        -4.31026771e-02, -1.61193655e-01],\n",
              "       [ 1.40845555e+00, -8.91555828e-01, -4.32770295e-01,\n",
              "         1.33511873e+00,  1.38287188e+00],\n",
              "       [-1.40671779e+00, -8.91555828e-01, -2.19932445e-01,\n",
              "        -1.42132408e+00,  1.85796897e+00],\n",
              "       [ 9.21882380e-01, -8.91555828e-01, -7.09459500e-03,\n",
              "         6.27383412e-01,  9.86957640e-01],\n",
              "       [-1.38152025e-01,  1.12163475e+00,  7.02364905e-01,\n",
              "        -4.31026771e-02, -8.20108068e-02],\n",
              "       [-7.98501326e-01, -8.91555828e-01,  8.44256805e-01,\n",
              "        -6.76339539e-01, -2.40376503e-01],\n",
              "       [ 1.09565851e+00, -8.91555828e-01, -5.03716245e-01,\n",
              "         7.39131093e-01,  1.66001185e+00],\n",
              "       [-8.50634166e-01,  1.12163475e+00, -3.61824345e-01,\n",
              "        -7.13588766e-01,  3.53494857e-01],\n",
              "       [-2.42417704e-01, -8.91555828e-01,  1.19898655e+00,\n",
              "        -1.54850359e-01,  2.74312009e-01],\n",
              "       [ 6.78595795e-01, -8.91555828e-01, -2.19932445e-01,\n",
              "         4.78386503e-01,  8.28591944e-01],\n",
              "       [-1.72907251e-01, -8.91555828e-01,  2.12128390e+00,\n",
              "        -8.03519043e-02,  1.55537737e-01],\n",
              "       [ 6.43840569e-01,  1.12163475e+00, -4.32770295e-01,\n",
              "         4.41137276e-01,  8.68183368e-01],\n",
              "       [ 1.82464939e-02, -8.91555828e-01,  7.73310855e-01,\n",
              "         3.13957772e-02, -1.21602231e-01],\n",
              "       [ 7.65483861e-01,  1.12163475e+00, -9.29391945e-01,\n",
              "         5.90134184e-01, -1.54689349e+00],\n",
              "       [-1.90284865e-01, -8.91555828e-01,  8.44256805e-01,\n",
              "        -1.17601131e-01, -2.00785079e-01],\n",
              "       [ 1.57267399e-01,  1.12163475e+00,  1.97939200e+00,\n",
              "         6.86450043e-02, -1.21602231e-01],\n",
              "       [-1.49360585e+00,  1.12163475e+00, -7.80405450e-02,\n",
              "        -1.53307176e+00, -1.50730207e+00],\n",
              "       [-1.26769688e+00,  1.12163475e+00, -2.19932445e-01,\n",
              "        -1.23507795e+00,  3.93086281e-01],\n",
              "       [ 7.13351022e-01,  1.12163475e+00, -4.32770295e-01,\n",
              "         5.15635730e-01,  1.66001185e+00],\n",
              "       [ 1.51272123e+00,  1.12163475e+00, -7.16554095e-01,\n",
              "         1.48411564e+00,  6.70226248e-01],\n",
              "       [-9.37522232e-01, -8.91555828e-01,  8.44256805e-01,\n",
              "        -7.88087220e-01,  1.55537737e-01],\n",
              "       [ 6.61218182e-01,  1.12163475e+00, -1.35506764e+00,\n",
              "         4.78386503e-01, -1.62607634e+00],\n",
              "       [ 1.65174213e+00, -8.91555828e-01, -2.19932445e-01,\n",
              "         2.19185095e+00,  1.10573191e+00],\n",
              "       [ 1.39889786e-01,  1.12163475e+00,  2.12128390e+00,\n",
              "         6.86450043e-02, -3.19559350e-01],\n",
              "       [-6.59480421e-01, -8.91555828e-01,  2.05033795e+00,\n",
              "        -5.27342630e-01,  3.67634651e-02],\n",
              "       [-1.70213721e+00, -8.91555828e-01, -1.28412169e+00,\n",
              "        -1.68206867e+00, -1.78444204e+00],\n",
              "       [-7.11613260e-01,  1.12163475e+00,  1.05709465e+00,\n",
              "        -5.64591857e-01, -2.00785079e-01],\n",
              "       [ 6.26462956e-01, -8.91555828e-01,  4.18581105e-01,\n",
              "         4.41137276e-01, -1.74485061e+00],\n",
              "       [ 1.68649736e+00,  1.12163475e+00, -4.32770295e-01,\n",
              "         2.41534631e+00,  9.07774792e-01],\n",
              "       [-9.89655072e-01, -8.91555828e-01, -5.03716245e-01,\n",
              "        -8.25336447e-01,  3.93086281e-01],\n",
              "       [-1.56311631e+00,  1.12163475e+00,  2.05033795e+00,\n",
              "        -1.57032099e+00, -1.46771064e+00],\n",
              "       [ 1.63436452e+00, -8.91555828e-01,  6.31418955e-01,\n",
              "         2.19185095e+00, -1.38852780e+00],\n",
              "       [-4.68326676e-01, -8.91555828e-01,  1.55371630e+00,\n",
              "        -4.15594949e-01,  1.95129161e-01],\n",
              "       [ 1.66911975e+00, -8.91555828e-01,  4.89527055e-01,\n",
              "         2.41534631e+00, -9.13430710e-01],\n",
              "       [ 1.35632271e+00,  1.12163475e+00,  1.48277035e+00,\n",
              "         1.18612182e+00, -1.46771064e+00],\n",
              "       [ 1.30418987e+00, -8.91555828e-01, -5.74662195e-01,\n",
              "         9.99875683e-01,  1.38287188e+00],\n",
              "       [ 4.52686824e-01,  1.12163475e+00,  3.47635155e-01,\n",
              "         3.66638822e-01, -6.36290742e-01],\n",
              "       [-1.20774412e-01, -8.91555828e-01,  1.34797305e-01,\n",
              "        -4.31026771e-02, -4.38333622e-01],\n",
              "       [ 2.09400239e-01, -8.91555828e-01, -7.09459500e-03,\n",
              "         1.05894231e-01, -3.59150774e-01],\n",
              "       [ 1.00877045e+00,  1.12163475e+00, -2.90878395e-01,\n",
              "         6.27383412e-01, -1.98239916e+00],\n",
              "       [ 1.58223168e+00, -8.91555828e-01, -4.32770295e-01,\n",
              "         1.55861409e+00,  7.09817672e-01],\n",
              "       [-8.68011779e-01, -8.91555828e-01,  7.73310855e-01,\n",
              "        -7.13588766e-01,  3.67634651e-02],\n",
              "       [-1.73689244e+00,  1.12163475e+00, -1.35506764e+00,\n",
              "        -1.71931790e+00, -4.77925046e-01],\n",
              "       [-1.03396799e-01, -8.91555828e-01, -4.32770295e-01,\n",
              "        -4.31026771e-02, -3.59150774e-01],\n",
              "       [ 1.74645013e-01,  1.12163475e+00,  1.90844605e+00,\n",
              "         6.86450043e-02,  3.67634651e-02],\n",
              "       [-8.60191853e-02,  1.12163475e+00, -1.00033789e+00,\n",
              "        -4.31026771e-02,  3.67634651e-02],\n",
              "       [-6.24725194e-01,  1.12163475e+00,  1.76655415e+00,\n",
              "        -4.90093403e-01, -2.82795885e-03],\n",
              "       [ 1.16516896e+00, -8.91555828e-01, -3.61824345e-01,\n",
              "         9.25377229e-01,  1.73919469e+00],\n",
              "       [-1.02441030e+00,  1.12163475e+00, -1.00033789e+00,\n",
              "        -8.62585675e-01,  1.62042042e+00],\n",
              "       [-5.37837128e-01, -8.91555828e-01, -4.32770295e-01,\n",
              "        -4.90093403e-01, -1.61193655e-01],\n",
              "       [-8.85389392e-01, -8.91555828e-01, -5.03716245e-01,\n",
              "        -7.88087220e-01, -3.59150774e-01],\n",
              "       [-9.02767006e-01, -8.91555828e-01, -6.45608145e-01,\n",
              "        -7.88087220e-01, -3.59150774e-01],\n",
              "       [-2.59795317e-01,  1.12163475e+00,  7.02364905e-01,\n",
              "        -2.66598040e-01, -2.00785079e-01],\n",
              "       [-1.51098347e+00, -8.91555828e-01, -1.00033789e+00,\n",
              "        -1.53307176e+00,  1.02654906e+00],\n",
              "       [ 1.06090329e+00, -8.91555828e-01, -6.45608145e-01,\n",
              "         6.64632639e-01,  1.26409761e+00],\n",
              "       [-1.33720734e+00,  1.12163475e+00, -5.03716245e-01,\n",
              "        -1.34682563e+00,  8.68183368e-01],\n",
              "       [ 1.49534362e+00, -8.91555828e-01,  1.12804060e+00,\n",
              "         1.48411564e+00, -1.07179641e+00],\n",
              "       [ 6.09085343e-01, -8.91555828e-01, -6.45608145e-01,\n",
              "         4.41137276e-01,  1.46205473e+00],\n",
              "       [-1.38934018e+00,  1.12163475e+00, -2.19932445e-01,\n",
              "        -1.38407485e+00, -6.36290742e-01],\n",
              "       [-1.47622824e+00,  1.12163475e+00, -1.14222979e+00,\n",
              "        -1.53307176e+00,  1.10573191e+00],\n",
              "       [-3.81438610e-01, -8.91555828e-01, -1.07128384e+00,\n",
              "        -2.66598040e-01,  3.67634651e-02],\n",
              "       [ 7.03793334e-02,  1.12163475e+00,  7.73310855e-01,\n",
              "         3.13957772e-02,  1.95129161e-01],\n",
              "       [-8.33256553e-01, -8.91555828e-01, -5.03716245e-01,\n",
              "        -6.76339539e-01,  1.15946313e-01],\n",
              "       [ 8.68880660e-04, -8.91555828e-01, -1.07128384e+00,\n",
              "         3.13957772e-02, -3.98742198e-01],\n",
              "       [-4.16193836e-01, -8.91555828e-01,  4.89527055e-01,\n",
              "        -2.66598040e-01,  7.63548890e-02],\n",
              "       [-1.68475960e+00, -8.91555828e-01, -1.07128384e+00,\n",
              "        -1.68206867e+00,  1.02654906e+00],\n",
              "       [ 2.78910692e-01, -8.91555828e-01,  1.76655415e+00,\n",
              "         1.43143459e-01, -3.19559350e-01],\n",
              "       [ 1.11303613e+00,  1.12163475e+00,  8.44256805e-01,\n",
              "         8.88128002e-01, -9.92613558e-01],\n",
              "       [ 1.70387497e+00,  1.12163475e+00, -4.32770295e-01,\n",
              "         2.82508781e+00, -1.30934495e+00],\n",
              "       [-1.63262676e+00, -8.91555828e-01, -2.19932445e-01,\n",
              "        -1.60757022e+00, -1.78444204e+00],\n",
              "       [-5.55214742e-01,  1.12163475e+00, -1.35506764e+00,\n",
              "        -4.90093403e-01,  3.13903433e-01],\n",
              "       [-2.77172930e-01, -8.91555828e-01, -1.21317574e+00,\n",
              "        -2.66598040e-01,  2.34720585e-01],\n",
              "       [ 3.65798758e-01, -8.91555828e-01, -7.09459500e-03,\n",
              "         2.17641913e-01, -4.38333622e-01],\n",
              "       [ 9.56637607e-01, -8.91555828e-01, -7.87500045e-01,\n",
              "         6.27383412e-01,  1.50164615e+00],\n",
              "       [ 1.23467942e+00,  1.12163475e+00, -7.16554095e-01,\n",
              "         9.62626456e-01,  9.47366216e-01],\n",
              "       [ 9.74015220e-01,  1.12163475e+00, -7.80405450e-02,\n",
              "         6.27383412e-01, -1.98239916e+00],\n",
              "       [-1.55529638e-01,  1.12163475e+00, -1.42601359e+00,\n",
              "        -8.03519043e-02, -3.98742198e-01],\n",
              "       [ 1.72125259e+00,  1.12163475e+00, -5.74662195e-01,\n",
              "         2.82508781e+00,  1.26409761e+00],\n",
              "       [-1.54573869e+00, -8.91555828e-01, -2.19932445e-01,\n",
              "        -1.57032099e+00,  1.89756039e+00],\n",
              "       [ 3.31043531e-01, -8.91555828e-01,  8.44256805e-01,\n",
              "         2.17641913e-01,  2.34720585e-01],\n",
              "       [ 3.56241071e-02,  1.12163475e+00,  2.05033795e+00,\n",
              "         3.13957772e-02,  3.13903433e-01],\n",
              "       [-1.12867598e+00, -8.91555828e-01, -1.21317574e+00,\n",
              "        -1.04883181e+00,  1.18491476e+00],\n",
              "       [-7.46368487e-01,  1.12163475e+00,  2.19222985e+00,\n",
              "        -6.39090312e-01, -2.00785079e-01],\n",
              "       [-6.07347581e-01,  1.12163475e+00, -1.42601359e+00,\n",
              "        -4.90093403e-01,  3.13903433e-01],\n",
              "       [-1.71951483e+00,  1.12163475e+00, -1.21317574e+00,\n",
              "        -1.71931790e+00,  1.18491476e+00],\n",
              "       [ 3.48421145e-01,  1.12163475e+00, -7.87500045e-01,\n",
              "         2.17641913e-01,  1.95129161e-01],\n",
              "       [ 1.07828090e+00,  1.12163475e+00, -1.35506764e+00,\n",
              "         7.39131093e-01, -1.82403346e+00],\n",
              "       [-1.00703268e+00,  1.12163475e+00,  7.02364905e-01,\n",
              "        -8.25336447e-01, -5.96699318e-01],\n",
              "       [ 8.77569466e-02, -8.91555828e-01, -1.21317574e+00,\n",
              "         3.13957772e-02, -3.59150774e-01],\n",
              "       [ 5.56952503e-01, -8.91555828e-01, -9.29391945e-01,\n",
              "         4.03888049e-01, -6.75882166e-01],\n",
              "       [ 1.26943464e+00,  1.12163475e+00, -1.48986495e-01,\n",
              "         9.62626456e-01,  1.62042042e+00],\n",
              "       [-1.44147301e+00,  1.12163475e+00, -1.28412169e+00,\n",
              "        -1.49582254e+00,  5.91043400e-01],\n",
              "       [-1.07654314e+00, -8.91555828e-01, -1.48986495e-01,\n",
              "        -8.99834902e-01, -9.92613558e-01],\n",
              "       [ 5.74330116e-01, -8.91555828e-01, -5.03716245e-01,\n",
              "         4.03888049e-01,  7.89000520e-01],\n",
              "       [-8.15878940e-01,  1.12163475e+00,  1.48277035e+00,\n",
              "        -6.76339539e-01,  3.53494857e-01],\n",
              "       [ 9.91392833e-01, -8.91555828e-01, -5.74662195e-01,\n",
              "         6.27383412e-01,  1.06614049e+00],\n",
              "       [ 4.87442050e-01,  1.12163475e+00,  1.48277035e+00,\n",
              "         3.66638822e-01, -1.58648492e+00],\n",
              "       [-1.14605359e+00, -8.91555828e-01,  7.73310855e-01,\n",
              "        -1.04883181e+00, -1.46771064e+00],\n",
              "       [-1.25031927e+00, -8.91555828e-01,  1.34797305e-01,\n",
              "        -1.19782872e+00, -7.94656438e-01],\n",
              "       [ 2.44155465e-01, -8.91555828e-01, -1.42601359e+00,\n",
              "         1.43143459e-01, -1.21602231e-01],\n",
              "       [ 8.87127154e-01,  1.12163475e+00,  6.38513550e-02,\n",
              "         6.27383412e-01,  1.46205473e+00],\n",
              "       [-1.19818643e+00, -8.91555828e-01, -1.21317574e+00,\n",
              "        -1.16057949e+00,  8.68183368e-01],\n",
              "       [ 1.14779135e+00,  1.12163475e+00,  2.76689205e-01,\n",
              "         9.25377229e-01, -1.23016210e+00],\n",
              "       [ 4.70064437e-01,  1.12163475e+00,  1.34797305e-01,\n",
              "         3.66638822e-01,  1.73919469e+00],\n",
              "       [ 1.32156748e+00,  1.12163475e+00,  1.41182440e+00,\n",
              "         9.99875683e-01, -1.42811922e+00],\n",
              "       [-1.18080882e+00,  1.12163475e+00,  1.05709465e+00,\n",
              "        -1.04883181e+00, -1.86362488e+00],\n",
              "       [ 7.30728635e-01, -8.91555828e-01, -7.16554095e-01,\n",
              "         5.52884957e-01, -4.38333622e-01],\n",
              "       [ 1.19992419e+00,  1.12163475e+00, -4.32770295e-01,\n",
              "         9.62626456e-01,  4.72269129e-01],\n",
              "       [ 8.17616701e-01, -8.91555828e-01, -4.32770295e-01,\n",
              "         5.90134184e-01,  9.07774792e-01],\n",
              "       [-1.23294166e+00, -8.91555828e-01, -1.07128384e+00,\n",
              "        -1.19782872e+00,  1.42246330e+00],\n",
              "       [-1.65087325e-02,  1.12163475e+00, -1.28412169e+00,\n",
              "        -5.85344998e-03, -8.20108068e-02],\n",
              "       [-3.11928157e-01,  1.12163475e+00,  2.05033795e+00,\n",
              "        -2.66598040e-01, -3.98742198e-01],\n",
              "       [-3.64060996e-01, -8.91555828e-01,  7.73310855e-01,\n",
              "        -2.66598040e-01, -3.59150774e-01],\n",
              "       [ 2.61533079e-01, -8.91555828e-01, -1.35506764e+00,\n",
              "         1.43143459e-01, -4.24193828e-02],\n",
              "       [ 8.34994314e-01, -8.91555828e-01, -2.90878395e-01,\n",
              "         6.27383412e-01, -1.15097925e+00],\n",
              "       [ 1.61698691e+00, -8.91555828e-01, -7.09459500e-03,\n",
              "         1.93110636e+00,  1.58082900e+00],\n",
              "       [-4.85704289e-01, -8.91555828e-01,  1.55371630e+00,\n",
              "        -4.15594949e-01, -8.20108068e-02],\n",
              "       [-3.98816223e-01,  1.12163475e+00,  1.34797305e-01,\n",
              "        -2.66598040e-01, -1.21602231e-01],\n",
              "       [-1.30245211e+00,  1.12163475e+00, -6.45608145e-01,\n",
              "        -1.23507795e+00,  1.22450618e+00],\n",
              "       [ 1.13041374e+00, -8.91555828e-01, -1.48986495e-01,\n",
              "         8.88128002e-01,  9.47366216e-01],\n",
              "       [-3.29305770e-01,  1.12163475e+00, -7.09459500e-03,\n",
              "        -2.66598040e-01,  1.55537737e-01],\n",
              "       [ 1.53009884e+00, -8.91555828e-01,  2.05743255e-01,\n",
              "         1.55861409e+00, -1.34893637e+00],\n",
              "       [ 1.28681226e+00, -8.91555828e-01,  9.86148705e-01,\n",
              "         9.99875683e-01, -1.50730207e+00],\n",
              "       [ 1.56485407e+00, -8.91555828e-01, -2.90878395e-01,\n",
              "         1.55861409e+00, -1.11138783e+00],\n",
              "       [-1.05916552e+00, -8.91555828e-01, -1.28412169e+00,\n",
              "        -8.99834902e-01,  9.47366216e-01],\n",
              "       [-7.28990874e-01, -8.91555828e-01, -7.87500045e-01,\n",
              "        -5.64591857e-01, -2.82795885e-03],\n",
              "       [ 6.95973409e-01, -8.91555828e-01,  1.34087845e+00,\n",
              "         5.15635730e-01, -1.82403346e+00],\n",
              "       [-2.07662478e-01, -8.91555828e-01, -2.90878395e-01,\n",
              "        -1.17601131e-01,  3.53494857e-01],\n",
              "       [-5.20459515e-01,  1.12163475e+00,  2.26317580e+00,\n",
              "        -4.52844176e-01,  1.55537737e-01],\n",
              "       [-2.25040091e-01, -8.91555828e-01, -1.14222979e+00,\n",
              "        -1.54850359e-01,  1.55537737e-01],\n",
              "       [-1.11129836e+00, -8.91555828e-01,  2.76689205e-01,\n",
              "        -1.01158258e+00, -1.34893637e+00],\n",
              "       [-1.37196256e+00,  1.12163475e+00, -9.29391945e-01,\n",
              "        -1.38407485e+00,  8.68183368e-01],\n",
              "       [-1.58049392e+00, -8.91555828e-01, -5.74662195e-01,\n",
              "        -1.57032099e+00,  8.28591944e-01],\n",
              "       [ 5.30017203e-02,  1.12163475e+00, -8.58445995e-01,\n",
              "         3.13957772e-02,  1.55537737e-01],\n",
              "       [-5.72592355e-01, -8.91555828e-01,  2.12128390e+00,\n",
              "        -4.90093403e-01, -1.21602231e-01],\n",
              "       [ 1.59960929e+00,  1.12163475e+00, -3.61824345e-01,\n",
              "         1.93110636e+00, -1.70525919e+00],\n",
              "       [ 2.96288305e-01, -8.91555828e-01,  7.73310855e-01,\n",
              "         1.43143459e-01,  3.13903433e-01],\n",
              "       [-9.20144619e-01, -8.91555828e-01, -7.87500045e-01,\n",
              "        -7.88087220e-01, -1.61193655e-01],\n",
              "       [ 1.25205703e+00,  1.12163475e+00, -1.48986495e-01,\n",
              "         9.62626456e-01, -1.62607634e+00]])"
            ]
          },
          "metadata": {},
          "execution_count": 26
        }
      ]
    }
  ]
}